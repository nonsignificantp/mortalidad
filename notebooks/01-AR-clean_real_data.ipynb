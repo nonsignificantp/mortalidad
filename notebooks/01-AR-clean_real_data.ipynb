{
 "cells": [
  {
   "cell_type": "code",
   "execution_count": 1,
   "metadata": {},
   "outputs": [],
   "source": [
    "import hashlib\n",
    "import pandas as pd"
   ]
  },
  {
   "cell_type": "markdown",
   "metadata": {},
   "source": [
    "## Preprocessing\n",
    "\n",
    "### Load"
   ]
  },
  {
   "cell_type": "code",
   "execution_count": 2,
   "metadata": {},
   "outputs": [],
   "source": [
    "patients = pd.read_stata('../data/.sensible/pacientes.dta')"
   ]
  },
  {
   "cell_type": "markdown",
   "metadata": {},
   "source": [
    "### Mask real ids and patient's data"
   ]
  },
  {
   "cell_type": "code",
   "execution_count": 3,
   "metadata": {},
   "outputs": [],
   "source": [
    "def get_new_patient_id(old_id):\n",
    "    sha1 = hashlib.sha1(f'{old_id}'.encode('utf8'))\n",
    "    return sha1.hexdigest()\n",
    "\n",
    "def shuffle_columns(col):\n",
    "    return (col.transform(lambda s: s.sample(frac=1))\n",
    "               .reset_index(drop=True))\n",
    "\n",
    "def mask_patient_data(df):\n",
    "    new_ids = [i for i, _ in enumerate(df.PacienteNro)]\n",
    "    return (df.assign(PacienteNro = [get_new_patient_id(i) for i in new_ids])\n",
    "              .apply(shuffle_columns))"
   ]
  },
  {
   "cell_type": "code",
   "execution_count": 4,
   "metadata": {},
   "outputs": [],
   "source": [
    "patients = patients.pipe(mask_patient_data)"
   ]
  },
  {
   "cell_type": "markdown",
   "metadata": {},
   "source": [
    "## New datasets"
   ]
  },
  {
   "cell_type": "code",
   "execution_count": 5,
   "metadata": {},
   "outputs": [],
   "source": [
    "def set_new_col_names(df, col_names):\n",
    "    replacements = {old:new for old, new in zip(df.columns, col_names)}\n",
    "    return df.rename(columns=replacements)"
   ]
  },
  {
   "cell_type": "code",
   "execution_count": 6,
   "metadata": {},
   "outputs": [],
   "source": [
    "def subset_and_rename(df, targets, col_names):\n",
    "    return (df.filter(items=targets)\n",
    "              .pipe(set_new_col_names, col_names))"
   ]
  },
  {
   "cell_type": "markdown",
   "metadata": {},
   "source": [
    "### Define targets"
   ]
  },
  {
   "cell_type": "code",
   "execution_count": 7,
   "metadata": {},
   "outputs": [],
   "source": [
    "cols_farmacia = [\n",
    "    'PacienteNro', 'UsoHIPOLIPEM_Inicio', 'UsoANTIAGREG_Inicio',\n",
    "    'UsoANTIHTA_Inicio', 'UsoLi_Inicio', 'UsoBZD_Inicio',\n",
    "    'UsoAE_Inicio', 'UsoHIP0T_Inicio', 'UsoInhCol_Inicio',\n",
    "    'UsoMEM_Inicio', 'UsoANTIDBT_Inicio', 'UsoCORTIC_Inicio',\n",
    "    'UsoATD_Inicio', 'UsoTRICICL_Inicio' \n",
    "]"
   ]
  },
  {
   "cell_type": "code",
   "execution_count": 8,
   "metadata": {},
   "outputs": [],
   "source": [
    "cols_historial = [\n",
    "    'PacienteNro', 'IAM_Previo', 'ACV_Previo',\n",
    "    'TAS_Inicio', 'TAD_Inicio', 'EAP_Inicio', \n",
    "    'DBT_Inicio', 'TEP_Inicio', 'EPOC_Inicio', \n",
    "    'FA_Inicio', 'OH_Inicio', 'ICC_Inicio',\n",
    "    'Cncer_Inicio', 'HIV_Inicio', 'IRC_Inicio',\n",
    "    'AI_Inicio',\n",
    "]"
   ]
  },
  {
   "cell_type": "code",
   "execution_count": 9,
   "metadata": {},
   "outputs": [],
   "source": [
    "cols_internacion = [\n",
    "    'PacienteNro', 'Edad_Ingreso', 'Sexo', 'PesoKg', 'Alturacms', 'TBQ',\n",
    "    'LDL_Inicio', 'HDL_Inicio', 'TAG_Inicio', 'GlucAy_Inicio', 'muerte'\n",
    "]"
   ]
  },
  {
   "cell_type": "markdown",
   "metadata": {},
   "source": [
    "### Subset, tidy and save farmacia"
   ]
  },
  {
   "cell_type": "code",
   "execution_count": 10,
   "metadata": {},
   "outputs": [],
   "source": [
    "new_col_names = [\n",
    "    'paciente_id', 'hipolip', 'antiag', 'antihta', 'li', \n",
    "    'benzo', 'anticom', 'hipoten', 'inhcol', 'memantina', \n",
    "    'antidbt', 'corticoide', 'antidep', 'triciclicos'\n",
    "]"
   ]
  },
  {
   "cell_type": "code",
   "execution_count": 11,
   "metadata": {},
   "outputs": [],
   "source": [
    "farmacia = patients.pipe(subset_and_rename, cols_farmacia, new_col_names)"
   ]
  },
  {
   "cell_type": "code",
   "execution_count": 12,
   "metadata": {},
   "outputs": [],
   "source": [
    "farmacia.to_csv('../data/original/hi_farmacia.csv', index=False)"
   ]
  },
  {
   "cell_type": "markdown",
   "metadata": {},
   "source": [
    "### Subset, tidy and save historial"
   ]
  },
  {
   "cell_type": "code",
   "execution_count": 13,
   "metadata": {},
   "outputs": [],
   "source": [
    "new_col_names = [\n",
    "    'paciente_id', 'iam', 'acv', 'tas', 'tad', 'eap',\n",
    "    'dbt', 'tep', 'epoc', 'fa', 'oh', 'icc', 'cancer',\n",
    "    'hiv', 'irc', 'ai'\n",
    "]"
   ]
  },
  {
   "cell_type": "code",
   "execution_count": 14,
   "metadata": {},
   "outputs": [],
   "source": [
    "historial = patients.pipe(subset_and_rename, cols_historial, new_col_names)"
   ]
  },
  {
   "cell_type": "code",
   "execution_count": 15,
   "metadata": {},
   "outputs": [],
   "source": [
    "historial.to_csv('../data/original/hi_historial.csv', index=False)"
   ]
  },
  {
   "cell_type": "markdown",
   "metadata": {},
   "source": [
    "### Subset, tidy and save internacion"
   ]
  },
  {
   "cell_type": "code",
   "execution_count": 16,
   "metadata": {},
   "outputs": [],
   "source": [
    "new_col_names = [\n",
    "    'paciente_id', 'edad', 'female', 'peso', 'altura',\n",
    "    'tbq', 'ldl', 'hdl', 'tag', 'glu', 'muerte'\n",
    "]"
   ]
  },
  {
   "cell_type": "code",
   "execution_count": 17,
   "metadata": {},
   "outputs": [],
   "source": [
    "internacion = patients.pipe(subset_and_rename, cols_internacion, new_col_names)"
   ]
  },
  {
   "cell_type": "code",
   "execution_count": 18,
   "metadata": {},
   "outputs": [],
   "source": [
    "internacion.to_csv('../data/original/hi_internacion.csv', index=False)"
   ]
  }
 ],
 "metadata": {
  "kernelspec": {
   "display_name": "Python 3",
   "language": "python",
   "name": "python3"
  },
  "language_info": {
   "codemirror_mode": {
    "name": "ipython",
    "version": 3
   },
   "file_extension": ".py",
   "mimetype": "text/x-python",
   "name": "python",
   "nbconvert_exporter": "python",
   "pygments_lexer": "ipython3",
   "version": "3.7.3"
  }
 },
 "nbformat": 4,
 "nbformat_minor": 2
}
